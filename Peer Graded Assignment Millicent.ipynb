{
  "metadata": {
    "language_info": {
      "name": ""
    },
    "kernelspec": {
      "name": ""
    }
  },
  "nbformat_minor": 4,
  "nbformat": 4,
  "cells": [
    {
      "cell_type": "markdown",
      "source": "# My Jupyter Notebook on IBM Watson Studio",
      "metadata": {}
    },
    {
      "cell_type": "markdown",
      "source": "**Millicent  Patrick**\n                          \n  Data Scientist                        \n  ",
      "metadata": {}
    },
    {
      "cell_type": "markdown",
      "source": "*I am interested in Data Science because am passionate in making positive change by gaining insights from data.*",
      "metadata": {}
    },
    {
      "cell_type": "markdown",
      "source": "### The coding below illustrates Basic Mathematical operations using Python language",
      "metadata": {}
    },
    {
      "cell_type": "code",
      "source": "5+4",
      "metadata": {
        "trusted": true
      },
      "execution_count": 2,
      "outputs": [
        {
          "execution_count": 2,
          "output_type": "execute_result",
          "data": {
            "text/plain": "9"
          },
          "metadata": {}
        }
      ]
    },
    {
      "cell_type": "code",
      "source": " 5-4",
      "metadata": {
        "trusted": true
      },
      "execution_count": 3,
      "outputs": [
        {
          "execution_count": 3,
          "output_type": "execute_result",
          "data": {
            "text/plain": "1"
          },
          "metadata": {}
        }
      ]
    },
    {
      "cell_type": "code",
      "source": "5*4",
      "metadata": {
        "trusted": true
      },
      "execution_count": 4,
      "outputs": [
        {
          "execution_count": 4,
          "output_type": "execute_result",
          "data": {
            "text/plain": "20"
          },
          "metadata": {}
        }
      ]
    },
    {
      "cell_type": "code",
      "source": "6/3",
      "metadata": {
        "trusted": true
      },
      "execution_count": 5,
      "outputs": [
        {
          "execution_count": 5,
          "output_type": "execute_result",
          "data": {
            "text/plain": "2.0"
          },
          "metadata": {}
        }
      ]
    },
    {
      "cell_type": "code",
      "source": "5**4",
      "metadata": {
        "trusted": true
      },
      "execution_count": 6,
      "outputs": [
        {
          "execution_count": 6,
          "output_type": "execute_result",
          "data": {
            "text/plain": "625"
          },
          "metadata": {}
        }
      ]
    },
    {
      "cell_type": "code",
      "source": "6//3",
      "metadata": {
        "trusted": true
      },
      "execution_count": 7,
      "outputs": [
        {
          "execution_count": 7,
          "output_type": "execute_result",
          "data": {
            "text/plain": "2"
          },
          "metadata": {}
        }
      ]
    },
    {
      "cell_type": "markdown",
      "source": "\n\n\n`ADVANCED FEATURES USING MARKDOWN IN JUPYTER NOTEBOOK EXAMPLES`\n----\n\n* Bulletted list\n* Numbered List\n* Tables\n* Rendered Image\n* Highlighting\n* Horizontal line\n* Hyperlinks\n* Strikethrough\n\n----       \n\n   **Numbered List of mathematical operations in the code above**\n\n   1. Addition\n   2. Subtraction\n   3. Multiplication\n   4. Division\n   5. Exponential\n   6. Quotient\n\n----\n   \n                               TABLE OF OPERATIONS AND ANSWERS OF THE CODING ABOVE\n   \n   |  Operation       |  Calculation  |  Answer  |\n   |:-----------      |   :---------: |  -------:|\n   |1.  Addition      | 5 + 4         | 9        |\n   |__________________|_______________|__________|\n   |2.  Subtraction   | 5 - 4         | 1        |\n   |__________________|_______________|__________|\n   |3.  Multiplication| 5 * 4         | 20       |\n   |__________________|_______________|__________|\n   |4.  Division      | 6 / 3         | 2        |\n   |__________________|_______________|__________|\n   |5.  Exponential   | 5 ** 4        | 625      |\n   |__________________|_______________|__________|\n   |6.  Quotient      | 6 // 3        | 2        |\n   |__________________|_______________|__________|\n   \n   \n\n\n   \n   \n    \n   \n          ",
      "metadata": {}
    }
  ]
}